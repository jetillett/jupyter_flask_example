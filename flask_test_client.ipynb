{
 "cells": [
  {
   "cell_type": "code",
   "id": "initial_id",
   "metadata": {
    "collapsed": true,
    "ExecuteTime": {
     "end_time": "2024-07-17T16:49:27.632025Z",
     "start_time": "2024-07-17T16:49:25.491560Z"
    }
   },
   "source": [
    "import requests\n",
    "\n",
    "# Step 5: Interact with Your Flask Application\n",
    "# Note: This request will work only from the same machine.\n",
    "response = requests.get('http://localhost:5000')\n",
    "print(response.text)"
   ],
   "outputs": [
    {
     "name": "stdout",
     "output_type": "stream",
     "text": [
      "Hello, Flask from Jupyter Notebook!\n"
     ]
    }
   ],
   "execution_count": 1
  },
  {
   "metadata": {
    "ExecuteTime": {
     "end_time": "2024-07-17T16:49:31.152864Z",
     "start_time": "2024-07-17T16:49:29.078643Z"
    }
   },
   "cell_type": "code",
   "source": [
    "response = requests.get('http://localhost:5000/new_message')\n",
    "print(response.text)"
   ],
   "id": "3234c69dec844150",
   "outputs": [
    {
     "name": "stdout",
     "output_type": "stream",
     "text": [
      "Here is a new message example!\n"
     ]
    }
   ],
   "execution_count": 2
  },
  {
   "metadata": {},
   "cell_type": "code",
   "outputs": [],
   "execution_count": null,
   "source": [
    "from IPython.display import display, HTML, Javascript\n",
    "\n",
    "display(HTML('''\n",
    "<h1>Call Flask API from Jupyter Notebook</h1>\n",
    "<button onclick=\"callFlaskAPI()\">Call API</button>\n",
    "<p id=\"apiResponse\"></p>\n",
    "\n",
    "<script>\n",
    "    async function callFlaskAPI() {\n",
    "        try {\n",
    "            const response = await fetch('http://localhost:5000/api/data');\n",
    "            const data = await response.json();\n",
    "            console.log(data);\n",
    "            document.getElementById('apiResponse').innerText = JSON.stringify(data);\n",
    "        } catch (error) {\n",
    "            console.error('Error:', error);\n",
    "        }\n",
    "    }\n",
    "</script>\n",
    "'''))"
   ],
   "id": "19527b75f3098062"
  }
 ],
 "metadata": {
  "kernelspec": {
   "display_name": "Python 3",
   "language": "python",
   "name": "python3"
  },
  "language_info": {
   "codemirror_mode": {
    "name": "ipython",
    "version": 2
   },
   "file_extension": ".py",
   "mimetype": "text/x-python",
   "name": "python",
   "nbconvert_exporter": "python",
   "pygments_lexer": "ipython2",
   "version": "2.7.6"
  }
 },
 "nbformat": 4,
 "nbformat_minor": 5
}
