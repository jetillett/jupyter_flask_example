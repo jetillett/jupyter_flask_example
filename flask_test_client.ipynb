{
 "cells": [
  {
   "cell_type": "markdown",
   "id": "c4c817305d25a9f6",
   "metadata": {},
   "source": [
    "FLASK WEB SITE = DEMONSTRATE FRONT END CALLS TO THE FLASK SERVER\n",
    "\n",
    "Run each of these cells in order to see various kinds of calls to the flask server. \n",
    "Each cell has a description of the demonstration objective."
   ]
  },
  {
   "cell_type": "code",
   "id": "59b1479eaa62e1e5",
   "metadata": {},
   "source": [
    "import requests\n",
    "import json\n",
    "from datetime import datetime, timezone"
   ],
   "outputs": [],
   "execution_count": null
  },
  {
   "cell_type": "code",
   "id": "initial_id",
   "metadata": {},
   "source": [
    "# Basic example to get a string from the web server request\n",
    "response = requests.get('http://localhost:5000')\n",
    "print(response.text)"
   ],
   "outputs": [],
   "execution_count": null
  },
  {
   "cell_type": "code",
   "id": "3234c69dec844150",
   "metadata": {},
   "source": [
    "# Demonstrate a different endpoint method of getting the string\n",
    "response = requests.get('http://localhost:5000/new_message')\n",
    "print(response.text)"
   ],
   "outputs": [],
   "execution_count": null
  },
  {
   "cell_type": "code",
   "id": "903a5b5edc0afbbb",
   "metadata": {},
   "source": [
    "# Demonstrate simulated API to return data in JSON format (could be generated in any fashion using python)\n",
    "response = requests.get(\"http://localhost:5000/api/data\")\n",
    "print(response.text)"
   ],
   "outputs": [],
   "execution_count": null
  },
  {
   "cell_type": "markdown",
   "id": "5017649b49df947f",
   "metadata": {},
   "source": [
    "**Note:** The flask server will require a CSRF token for authentication. This example useses a session to retrieve the flask CSRF token. Then that token is inserted into the POST calls to authenticate with the flask server."
   ]
  },
  {
   "cell_type": "code",
   "id": "74c6b2cc279cecf4",
   "metadata": {},
   "source": [
    "# POST JSON data to the API, which will then write it to a file, and print the result of the call\n",
    "post_data = {'data': f'{datetime.now(timezone.utc).isoformat()}__Newly sent from python request__'}\n",
    "headers = {'Content-Type': 'application/json'}\n",
    "response = requests.post('http://localhost:5000/api/data', json=post_data, headers=headers)\n",
    "print(response.text)"
   ],
   "outputs": [],
   "execution_count": null
  },
  {
   "cell_type": "markdown",
   "id": "590139d3b9609793",
   "metadata": {},
   "source": [
    "Similar to the above call to api/data but performed using JavaScript to simulate a browser GET to the API\n",
    "\n",
    "**Note:** Must have the console visible to see the results.  \n",
    "This also demonstrates HTML/Javascript using IPython.display"
   ]
  },
  {
   "cell_type": "code",
   "id": "19527b75f3098062",
   "metadata": {},
   "source": [
    "from IPython.display import display, HTML, Javascript\n",
    "\n",
    "display(HTML('''\n",
    "<h1>Call Flask API from Jupyter Notebook</h1>\n",
    "<button onclick=\"callFlaskAPI()\">Call API</button>\n",
    "<p id=\"apiResponse\"></p>\n",
    "\n",
    "<script>\n",
    "    async function callFlaskAPI() {\n",
    "        try {\n",
    "            const response = await fetch('http://localhost:5000/api/data');\n",
    "            const data = await response.json();\n",
    "            console.log(data);\n",
    "            document.getElementById('apiResponse').innerText = JSON.stringify(data);\n",
    "        } catch (error) {\n",
    "            console.error('Error:', error);\n",
    "        }\n",
    "    }\n",
    "</script>\n",
    "'''))"
   ],
   "outputs": [],
   "execution_count": null
  },
  {
   "cell_type": "markdown",
   "id": "8d11af060f1d7b0d",
   "metadata": {},
   "source": [
    "Simple JavaScript to capture mouse clicks and write the position to the browser console.  It will also \n",
    "post it to the post_data API, which then writes it to a JSON file.\n",
    "\n",
    "**Note:** Must have the console visible to see the results console.log results.  This also demonstrates HTML/Javascript using IPython.display.\n",
    "\n",
    "The below example assumes the Javascript POST is contained within the same jupyter notebook as the python examples so a python requests.get is used to retrieve the simulated flask CSRF token.  The X-CSRFToken must be included in the header even though CSRF is disabled in the server.  If not an error is likely. "
   ]
  },
  {
   "cell_type": "code",
   "id": "9e5f2cf6ebabf0e0",
   "metadata": {},
   "source": [
    "from IPython.display import display, HTML, Javascript\n",
    "\n",
    "# First retrieve the simulated CSRF token from the flask server using python and make it available to follow. \n",
    "csrf_token_json = requests.get(\"http://localhost:5000/get_csrf_token\").text\n",
    "json_response = json.loads(csrf_token_json)\n",
    "csrf_token = json_response['csrf_token']\n",
    "\n",
    "display(HTML('''\n",
    "<h1>Setup mouse click position alerts</h1>\n",
    "\n",
    "<script>    \n",
    "    // Create a function to handle the click event\n",
    "    async function handleClick(e) {\n",
    "        var xPosition = e.clientX;    // Get the horizontal coordinate\n",
    "        var yPosition = e.clientY;    // Get the vertical coordinate\n",
    "    \n",
    "        // Display the coordinates\n",
    "        var clickData = {\"mouseClickPosition\": {\"x\": xPosition, \"y\": yPosition}};\n",
    "        \n",
    "        // Add each mouse click event to console log\n",
    "        console.log(clickData);   \n",
    "        \n",
    "        // Fetch CSRF token\n",
    "        try {\n",
    "            const csrfToken = \"{csrf_token}\";\n",
    "            \n",
    "            // Now post the mouse click data to the server\n",
    "            // options for the fetch function\n",
    "            const options = {\n",
    "              method: 'POST', \n",
    "              headers: {\n",
    "                'Content-Type': 'application/json', \n",
    "                'X-CSRFToken': csrfToken  // Include CSRF token in headers\n",
    "              },\n",
    "              body: JSON.stringify(clickData) // stringify the JS object to JSON\n",
    "            };\n",
    "\n",
    "            // Sending a POST request to the Flask server\n",
    "            const response = await fetch('http://localhost:5000/api/data', options);\n",
    "            if (!response.ok) {\n",
    "              throw new Error(`HTTP error! status: ${response.status}`);\n",
    "            }\n",
    "            const json = await response.json();\n",
    "            console.log(json); // log the output from the Flask response\n",
    "        } catch (error) {\n",
    "            console.log('Fetch Error: flask example post', error);\n",
    "        }\n",
    "    }\n",
    "    \n",
    "    // Attach the function to the click event\n",
    "    window.addEventListener(\"click\", handleClick);\n",
    "</script>\n",
    "'''))"
   ],
   "outputs": [],
   "execution_count": null
  },
  {
   "cell_type": "code",
   "id": "bb8ac94bc47e4aa",
   "metadata": {},
   "source": [
    "# Disable the mouse click handler\n",
    "display(Javascript(\"window.removeEventListener('click', handleClick);\"))  "
   ],
   "outputs": [],
   "execution_count": null
  },
  {
   "cell_type": "code",
   "id": "ef1384cd-047a-4774-8dc6-c71f12c93992",
   "metadata": {},
   "source": [],
   "outputs": [],
   "execution_count": null
  }
 ],
 "metadata": {
  "kernelspec": {
   "display_name": "Python 3 (ipykernel)",
   "language": "python",
   "name": "python3"
  },
  "language_info": {
   "codemirror_mode": {
    "name": "ipython",
    "version": 3
   },
   "file_extension": ".py",
   "mimetype": "text/x-python",
   "name": "python",
   "nbconvert_exporter": "python",
   "pygments_lexer": "ipython3",
   "version": "3.8.10"
  }
 },
 "nbformat": 4,
 "nbformat_minor": 5
}
