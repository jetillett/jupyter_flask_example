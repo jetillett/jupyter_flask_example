{
 "cells": [
  {
   "cell_type": "code",
   "id": "initial_id",
   "metadata": {
    "collapsed": true
   },
   "source": [
    "'''\n",
    "FLASK WEB SITE #1 = DEMONSTRATE 2 ENDPOINTS THAT RETURN DIFFERENT STRINGS\n",
    "\n",
    "This will setup a flask app that has a couple different messages to access through the web API. \n",
    "\n",
    "The following are the request option URLs. \n",
    "http://localhost:5000 = The basic index string\n",
    "http://localhost:5000/new_message = The new message string\n",
    "\n",
    "Run this cell to setup the server to serve these endpoints. \n",
    "'''\n",
    "\n",
    "# Setup modules\n",
    "from flask import Flask\n",
    "from threading import Thread\n",
    "import requests\n",
    "\n",
    "# Define the Flask Application\n",
    "app = Flask(__name__)\n",
    "\n",
    "# Set up the base URL endpoint\n",
    "@app.route('/')\n",
    "def index():\n",
    "    return \"Hello, Flask from Jupyter Notebook!\"\n",
    "\n",
    "# Set up the new message endpoint\n",
    "@app.route('/new_message')\n",
    "def new_message():\n",
    "    return \"Here is a new message example!\""
   ],
   "outputs": [],
   "execution_count": null
  },
  {
   "metadata": {},
   "cell_type": "code",
   "source": [
    "'''\n",
    "FLASK WEB SITE #2 = SETUP WEBSITE THAT RETURNS THE STRINGS AS JSON TO SIMULATE API CALLS \n",
    "\n",
    "This will setup a flask app that has a couple different JSON responses to access through the web API.\n",
    "The goal is to simulate JSON responses from an API call to the web server.  There could be anything \n",
    "in your Jupyter based logic to generate the JSON, but this example just returns a static JSON response.  \n",
    "\n",
    "The following are the request option URLs. \n",
    "http://localhost:5000 = The basic index JSON\n",
    "http://localhost:5000/new_message = The new message JSON\n",
    "\n",
    "Run this cell to setup the server to serve these endpoints. \n",
    "'''\n",
    "\n",
    "# Setup modules\n",
    "from flask import Flask\n",
    "from threading import Thread\n",
    "import requests\n",
    "\n",
    "# Define the Flask Application\n",
    "app = Flask(__name__)\n",
    "\n",
    "# Set up the base URL endpoint\n",
    "@app.route('/')\n",
    "def index():\n",
    "    return \"Hello, Flask from Jupyter Notebook!\"\n",
    "\n",
    "# Set up the new message endpoint\n",
    "@app.route('/new_message')\n",
    "def new_message():\n",
    "    return \"Here is a new message example!\""
   ],
   "id": "900bf67adaccedfa",
   "outputs": [],
   "execution_count": null
  },
  {
   "metadata": {},
   "cell_type": "code",
   "source": [
    "# Create the function to call and run the flask web app\n",
    "def run_app():\n",
    "    app.run(host='0.0.0.0', port=5000)\n",
    "    \n",
    "# Create a new execution thread in the Jupyter instance to serve the previously created Flask web site. \n",
    "thread = Thread(target=run_app)\n",
    "thread.start()"
   ],
   "id": "979f04142f27236f",
   "outputs": [],
   "execution_count": null
  }
 ],
 "metadata": {
  "kernelspec": {
   "display_name": "Python 3",
   "language": "python",
   "name": "python3"
  },
  "language_info": {
   "codemirror_mode": {
    "name": "ipython",
    "version": 2
   },
   "file_extension": ".py",
   "mimetype": "text/x-python",
   "name": "python",
   "nbconvert_exporter": "python",
   "pygments_lexer": "ipython2",
   "version": "2.7.6"
  }
 },
 "nbformat": 4,
 "nbformat_minor": 5
}
